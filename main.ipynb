{
 "cells": [
  {
   "cell_type": "markdown",
   "id": "ccd4d144-93f2-42a3-a337-e10146751213",
   "metadata": {},
   "source": [
    "# The 3 Body Problem\n",
    "----------------------------"
   ]
  },
  {
   "cell_type": "markdown",
   "id": "385b6705-b59e-4ea1-99e2-caf98823369d",
   "metadata": {},
   "source": [
    "### 1. Introduction\n",
    "The 3-body problem is a classical problem in celestial mechanics that describes the motion of three massive bodies interacting with each other under the influence of gravity. This problem has significant applications in understanding the orbits of planets, moons, and artificial satellites.\n",
    "\n",
    "The goal is to predict the future **positions and velocities** of the three bodies given their initial states."
   ]
  },
  {
   "cell_type": "markdown",
   "id": "1f888fbc-89ba-4531-b6d2-ef28585dd779",
   "metadata": {},
   "source": [
    "### 2. Assumptions and Simplifications\n",
    "* **Isolated System**: The system consists only of the two interacting bodies, with no external forces acting on them.\n",
    "* **Point Masses**: The bodies are treated as point masses, having all their mass concentrated at a single point.\n",
    "* **Newtonian Gravity**: The force between the two bodies is described by Newton's law of universal gravitation."
   ]
  },
  {
   "cell_type": "markdown",
   "id": "c66a62f4-5634-4f3c-a14a-7b633f06892c",
   "metadata": {},
   "source": [
    "### 3. Mathematical formulation\n",
    "A planet is presented as a particle that has a position $\\vec{p}$. $F_{p_i \\ / \\ p_j}$ is the gravitational force that $p_i$ is exerting on $p_j$\n",
    "\n",
    "$$ \\vec{F}_{p_i \\ / \\ p_j} = G \\frac{m_i \\ m_j}{|\\vec{p}_i - \\vec{p}_j|^3} \\left(\\vec{p}_i - \\vec{p}_j \\right) $$\n",
    "\n",
    "Here $\\vec{p} = [p_x, p_y, p_z]$ contains the coordinates of the planet.\n",
    "\n",
    "By using Newton's second law of motion on each planet:\n",
    "\n",
    "* On planet 1 ($\\vec{p}_1$):\n",
    "$$ m_1 \\frac{d^2 \\vec{p}_1}{dt^2} = G \\left(\\frac{m_3 \\ m_1}{|\\vec{p}_3 - \\vec{p}_1|^3} \\left(\\vec{p}_3 - \\vec{p}_1 \\right)  +   \\frac{m_2 \\ m_1}{|\\vec{p}_2 - \\vec{p}_1|^3} \\left(\\vec{p} _2 - \\vec{p}_1 \\right) \\right)$$\n",
    "\n",
    "resulting in:\n",
    "\n",
    "$$\\boxed{ \\frac{d^2 \\vec{p}_1}{dt^2} = G m_3 \\frac{\\vec{p}_3 - \\vec{p}_1}{|\\vec{p}_3 - \\vec{p}_1|^3} +  G m_2 \\frac{\\vec{p}_2 - \\vec{p}_1}{|\\vec{p}_2 - \\vec{p}_1|^3} } $$\n",
    "\n",
    "The work is repeated for the remaining planets ($\\vec{p}_2$ and $\\vec{p}_3$), finally obtaining the system of odinary differential equations ODE's:\n",
    "\n",
    "\n",
    "$$\n",
    "\\boxed{\n",
    "\\begin{array}{c}\n",
    "\\displaystyle \\frac{d^2 \\vec{p}_1}{dt^2} = G m_3 \\frac{\\vec{p}_3 - \\vec{p}_1}{|\\vec{p}_3 - \\vec{p}_1|^3} +  G m_2 \\frac{\\vec{p}_2 - \\vec{p}_1}{|\\vec{p}_2 - \\vec{p}_1|^3} \\\\[0.2cm]\n",
    "\\displaystyle \\frac{d^2 \\vec{p}_2}{dt^2} = G m_3 \\frac{\\vec{p}_3 - \\vec{p}_2}{|\\vec{p}_3 - \\vec{p}_2|^3} +  G m_1 \\frac{\\vec{p}_1 - \\vec{p}_2}{|\\vec{p}_2 - \\vec{p}_2|^3}\\\\[0.2cm]\n",
    "\\displaystyle \\frac{d^2 \\vec{p}_3}{dt^2} = G m_1 \\frac{\\vec{p}_1 - \\vec{p}_3}{|\\vec{p}_1 - \\vec{p}_3|^3} +  G m_2 \\frac{\\vec{p}_2 - \\vec{p}_3}{|\\vec{p}_2 - \\vec{p}_3|^3}\n",
    "\\end{array}\n",
    "} \n",
    "$$\n"
   ]
  },
  {
   "cell_type": "markdown",
   "id": "b715c184-78d7-406d-b07d-6f1013b4d51e",
   "metadata": {},
   "source": [
    "### 4. Packaging our problem for Python\n",
    "#### Dimensionless version\n",
    "We might need to rescale our problem to simplify and allowing more stability. This by defining new variables:\n",
    "\n",
    "- $\\vec{p'} = \\vec{p}/L$\n",
    "- $m' = m/M$\n",
    "- $t' = t \\sqrt{GM/L^3}$\n",
    "\n",
    "Were $\\vec{p'}$, $m'$ and $t'$ are dimensionless variables, and $L$ and $M$ are reference values.\n"
   ]
  },
  {
   "cell_type": "markdown",
   "id": "8676e684-83b8-475f-a331-904eb5ae8632",
   "metadata": {},
   "source": [
    "By replacing the rescaled variables we obtain the following equation:\n",
    "\n",
    "$$\n",
    "\\displaystyle \\frac{d^2 (L \\vec{p'}_1)}{d(\\frac{t'}{\\sqrt{GM/L^3}})^2} = G m_3 \\frac{L(\\vec{p'}_3 - \\vec{p'}_1)}{|L(\\vec{p'}_3 - \\vec{p'}_1)|^3} +  G m_2 \\frac{L(\\vec{p'}_2 - \\vec{p'}_1)}{|L(\\vec{p'}_2 - \\vec{p'}_1)|^3}\n",
    "$$\n",
    "\n",
    "Leading to:\n",
    "\n",
    "$$\\displaystyle \\frac{L \\ GM}{L^3}\\frac{d^2 \\vec{p'}_1}{dt'^2} = G m_3 \\frac{L}{L^3} \\frac{\\vec{p'}_3 - \\vec{p'}_1}{|\\vec{p'}_3 - \\vec{p'}_1|^3} +  G m_2 \\frac{L}{L^3} \\frac{\\vec{p'}_2 - \\vec{p'}_1}{|\\vec{p'}_2 - \\vec{p'}_1|^3}$$\n",
    "\n",
    "After simplifying:\n",
    "\n",
    "$$\n",
    "\\boxed{\n",
    "\\displaystyle \\frac{d^2 \\vec{p'}_1}{dt'^2} = \\frac{m_3}{M} \\frac{\\vec{p'}_3 - \\vec{p'}_1}{|\\vec{p'}_3 - \\vec{p'}_1|^3} + \\frac{m_2}{M}  \\frac{\\vec{p'}_2 - \\vec{p'}_1}{|\\vec{p'}_2 - \\vec{p'}_1|^3}\n",
    "}\n",
    "$$\n",
    "\n",
    "Finally we obtain the rescaled system of ODE:\n",
    "\n",
    "$$\n",
    "\\boxed{\n",
    "\\begin{array}{c}\n",
    "\\displaystyle \\frac{d^2 \\vec{p'}_1}{dt'^2} = m_3' \\frac{\\vec{p'}_3 - \\vec{p'}_1}{|\\vec{p'}_3 - \\vec{p'}_1|^3} + m_2'  \\frac{\\vec{p'}_2 - \\vec{p'}_1}{|\\vec{p'}_2 - \\vec{p'}_1|^3} \\\\[0.2cm]\n",
    "\\displaystyle \\frac{d^2 \\vec{p'}_2}{dt'^2} = m_3' \\frac{\\vec{p'}_3 - \\vec{p'}_2}{|\\vec{p'}_3 - \\vec{p'}_2|^3} + m_1'  \\frac{\\vec{p'}_1 - \\vec{p'}_2}{|\\vec{p'}_1 - \\vec{p'}_2|^3}\\\\[0.2cm]\n",
    "\\displaystyle \\frac{d^2 \\vec{p'}_3}{dt'^2} = m_1' \\frac{\\vec{p'}_1 - \\vec{p'}_3}{|\\vec{p'}_1 - \\vec{p'}_3|^3} + m_2'  \\frac{\\vec{p'}_2 - \\vec{p'}_3}{|\\vec{p'}_2 - \\vec{p'}_3|^3}\n",
    "\\end{array}\n",
    "} \n",
    "$$"
   ]
  },
  {
   "cell_type": "markdown",
   "id": "7387851d-153f-4975-a089-49969a6a15de",
   "metadata": {},
   "source": [
    "#### Transforming into a system of first ODE's\n",
    "\n",
    "By defining new functions $\\vec{f}_1$, $\\vec{f}_2$ and $\\vec{f}_3$ defined by:\n",
    "\n",
    "$$ \\vec{f}_1 = \\frac{d \\vec{p'}_1}{dt} $$\n",
    "$$ \\vec{f}_2 = \\frac{d \\vec{p'}_2}{dt} $$\n",
    "$$ \\vec{f}_3 = \\frac{d \\vec{p'}_3}{dt} $$\n",
    "\n",
    "\n",
    "The system of first order ODE is obtained:\n",
    "$$\n",
    "\\boxed{\n",
    "\\begin{array}{l}\n",
    "\\vec{f}_1 & = & \\displaystyle \\frac{d \\vec{p'}_1}{dt}\\\\\n",
    "\\vec{f}_2 & = & \\displaystyle \\frac{d \\vec{p'}_2}{dt}\\\\\n",
    "\\vec{f}_3 & = & \\displaystyle \\frac{d \\vec{p'}_3}{dt}\\\\\n",
    "\\displaystyle \\frac{d \\vec{f}_1}{dt} & = & \\displaystyle m_3' \\frac{\\vec{p'}_3 - \\vec{p'}_1}{|\\vec{p'}_3 - \\vec{p'}_1|^3} +  m_2' \\frac{\\vec{p'}_2 - \\vec{p'}_1}{|\\vec{p'}_2 - \\vec{p'}_1|^3} \\\\[0.2cm]\n",
    "\\displaystyle \\frac{d \\vec{f}_2}{dt} & = & \\displaystyle m_3' \\frac{\\vec{p'}_3 - \\vec{p'}_2}{|\\vec{p'}_3 - \\vec{p'}_2|^3} +  m_1' \\frac{\\vec{p'}_1 - \\vec{p'}_2}{|\\vec{p'}_2 - \\vec{p'}_2|^3}\\\\[0.2cm]\n",
    "\\displaystyle \\frac{d \\vec{f}_3}{dt} & = & \\displaystyle m_1' \\frac{\\vec{p'}_1 - \\vec{p'}_3}{|\\vec{p'}_1 - \\vec{p'}_3|^3} +  m_2' \\frac{\\vec{p'}_2 - \\vec{p'}_3}{|\\vec{p'}_2 - \\vec{p'}_3|^3}\n",
    "\\end{array}\n",
    "} \n",
    "$$\n",
    "\n",
    "We are looking to solve for $\\vec{p'}_1$, $\\vec{p'}_2$ and $\\vec{p'}_3$. Where at $t' = 0$, we have informations about the initial position and velocities of the planets (Initial Conditions | IVP):\n",
    "\n",
    "* $\\displaystyle \\vec{p'}_{i_{t'=0}} = \\vec{p'}_{i_{0}} = \\left[p'_{_i{x_0}}, p'_{_i{y_0}}, p'_{_i{z_0}} \\right]$\n",
    "* $\\displaystyle \\vec{v'}_{i_{t'=0}} = \\vec{v'}_{i_{0}} = \\left[v'_{_i{x_0}}, v'_{_i{y_0}}, v'_{_i{z_0}} \\right]$\n",
    "* $\\vec{p'}_i$ position vector, $\\vec{v'}_i$ velocity vector for $i=1, 2, 3$ (3 here representing the number of planets interacting with each other."
   ]
  },
  {
   "cell_type": "markdown",
   "id": "ddc174ca-261b-4bbd-bea8-9059706274e6",
   "metadata": {},
   "source": [
    "# Python Implementation\n",
    "-----------------------"
   ]
  },
  {
   "cell_type": "markdown",
   "id": "b5573ca2-d53d-4e5b-acb6-90e4f478c340",
   "metadata": {},
   "source": [
    "#### 1. Importing the Libraries"
   ]
  },
  {
   "cell_type": "code",
   "execution_count": 1,
   "id": "3a9f1dbd-e753-4aeb-90a8-4e2bc8ae587c",
   "metadata": {},
   "outputs": [],
   "source": [
    "import numpy as np\n",
    "import matplotlib.pyplot as plt\n",
    "from scipy.integrate import solve_ivp\n",
    "import time"
   ]
  },
  {
   "cell_type": "markdown",
   "id": "d498275f-3bbc-4d94-92c2-672f5af6ef66",
   "metadata": {},
   "source": [
    "#### 2. Initial Conditions & Constants"
   ]
  },
  {
   "cell_type": "code",
   "execution_count": 2,
   "id": "ef2c2e59-3f8d-4532-89ef-bf7a0f02348c",
   "metadata": {},
   "outputs": [],
   "source": [
    "m1 = 1.0\n",
    "m2 = 1.0\n",
    "m3 = 1.0\n",
    "\n",
    "# Position\n",
    "inital_position_1 =  [1.0,  0.0,  1.0]\n",
    "inital_position_2 =  [1.0,  1.0,  0.0]\n",
    "inital_position_3 =  [0.0,   1.0, 1.0]\n",
    "\n",
    "# Velocity\n",
    "inital_velocity_1 =  [0.0, 0.0, -1.0]\n",
    "inital_velocity_2 =  [0.0, 0.0, 1.0]\n",
    "inital_velocity_3 =  [0.0, 0.0, -0.6]\n",
    "\n",
    "initial_conditions = np.array([\n",
    "    inital_position_1, inital_position_2, inital_position_3,\n",
    "    inital_velocity_1, inital_velocity_2, inital_velocity_3\n",
    "]).ravel()"
   ]
  },
  {
   "cell_type": "markdown",
   "id": "147850b7-3f1c-4f97-a55a-c79d9c9dce25",
   "metadata": {},
   "source": [
    "#### 3. Defining our system of first order ODE's in Python:"
   ]
  },
  {
   "cell_type": "code",
   "execution_count": 3,
   "id": "2c6fae49-5593-483a-a7f1-d9b7bd57bd1c",
   "metadata": {},
   "outputs": [],
   "source": [
    "def system_odes(t, S, m1, m2, m3):\n",
    "    p1, p2, p3 = S[0:3], S[3:6], S[6:9]\n",
    "    dp1_dt, dp2_dt, dp3_dt = S[9:12], S[12:15], S[15:18]\n",
    "\n",
    "    f1, f2, f3 = dp1_dt, dp2_dt, dp3_dt\n",
    "\n",
    "    df1_dt = m3*(p3 - p1)/np.linalg.norm(p3 - p1)**3 + m2*(p2 - p1)/np.linalg.norm(p2 - p1)**3\n",
    "    df2_dt = m3*(p3 - p2)/np.linalg.norm(p3 - p2)**3 + m1*(p1 - p2)/np.linalg.norm(p1 - p2)**3\n",
    "    df3_dt = m1*(p1 - p3)/np.linalg.norm(p1 - p3)**3 + m2*(p2 - p3)/np.linalg.norm(p2 - p3)**3\n",
    "\n",
    "    return np.array([f1, f2, f3, df1_dt, df2_dt, df3_dt]).ravel()"
   ]
  },
  {
   "cell_type": "markdown",
   "id": "c7c1ece8",
   "metadata": {},
   "source": [
    "#### 4. Solving our problem numerically"
   ]
  },
  {
   "cell_type": "code",
   "execution_count": 4,
   "id": "24183acc-d650-480c-9b08-55fa847f5822",
   "metadata": {},
   "outputs": [],
   "source": [
    "time_s, time_e = 0, 10\n",
    "t_points = np.linspace(time_s, time_e, 1001)\n",
    "\n",
    "solution = solve_ivp(\n",
    "    fun=system_odes,\n",
    "    t_span=(time_s, time_e),\n",
    "    y0=initial_conditions,\n",
    "    t_eval=t_points,\n",
    "    args=(m1, m2, m3)\n",
    ")\n",
    "\n",
    "\n",
    "t_sol = solution.t\n",
    "p1x_sol = solution.y[0]\n",
    "p1y_sol = solution.y[1]\n",
    "p1z_sol = solution.y[2]\n",
    "\n",
    "p2x_sol = solution.y[3]\n",
    "p2y_sol = solution.y[4]\n",
    "p2z_sol = solution.y[5]\n",
    "\n",
    "p3x_sol = solution.y[6]\n",
    "p3y_sol = solution.y[7]\n",
    "p3z_sol = solution.y[8]"
   ]
  },
  {
   "cell_type": "markdown",
   "id": "14459148",
   "metadata": {},
   "source": [
    "#### 5. Plotting the results"
   ]
  },
  {
   "cell_type": "code",
   "execution_count": 5,
   "id": "c7326723-ad9c-4768-93ad-854734e938a7",
   "metadata": {},
   "outputs": [
    {
     "data": {
      "image/png": "[encoded data removed]",
      "text/plain": [
       "<Figure size 640x480 with 1 Axes>"
      ]
     },
     "metadata": {},
     "output_type": "display_data"
    }
   ],
   "source": [
    "# -------  Plotting the solutions ------- #\n",
    "\n",
    "fig, ax = plt.subplots(subplot_kw={\"projection\":\"3d\"})\n",
    "\n",
    "planet1_plt, = ax.plot(p1x_sol, p1y_sol, p1z_sol, 'green', label='Planet 1', linewidth=1)\n",
    "planet2_plt, = ax.plot(p2x_sol, p2y_sol, p2z_sol, 'red', label='Planet 2', linewidth=1)\n",
    "planet3_plt, = ax.plot(p3x_sol, p3y_sol, p3z_sol, 'blue',label='Planet 3', linewidth=1)\n",
    "\n",
    "planet1_dot, = ax.plot([p1x_sol[-1]], [p1y_sol[-1]], [p1z_sol[-1]], 'o', color='green', markersize=7)\n",
    "planet2_dot, = ax.plot([p2x_sol[-1]], [p2y_sol[-1]], [p2z_sol[-1]], 'o', color='red', markersize=7)\n",
    "planet3_dot, = ax.plot([p3x_sol[-1]], [p3y_sol[-1]], [p3z_sol[-1]], 'o', color='blue', markersize=7)\n",
    "\n",
    "\n",
    "ax.set_title(\"The 3-Body Problem\")\n",
    "ax.set_xlabel(\"x\")\n",
    "ax.set_ylabel(\"y\")\n",
    "ax.set_zlabel(\"z\")\n",
    "plt.grid()\n",
    "plt.legend()\n",
    "plt.show()\n"
   ]
  },
  {
   "cell_type": "markdown",
   "id": "b0551e31",
   "metadata": {},
   "source": [
    "# Animating the Solution"
   ]
  },
  {
   "cell_type": "code",
   "execution_count": 7,
   "id": "e70ac72c",
   "metadata": {},
   "outputs": [],
   "source": [
    "from matplotlib.animation import FuncAnimation"
   ]
  },
  {
   "cell_type": "code",
   "execution_count": 8,
   "id": "43f8e363",
   "metadata": {},
   "outputs": [],
   "source": [
    "def update(frame):\n",
    "    lower_lim = max(0, frame - 300)\n",
    "    print(f\"Progress: {(frame+1)/len(t_points):.1%} | 100.0 %\", end='\\r')\n",
    "\n",
    "    x_current_1 = p1x_sol[lower_lim:frame+1]\n",
    "    y_current_1 = p1y_sol[lower_lim:frame+1]\n",
    "    z_current_1 = p1z_sol[lower_lim:frame+1]\n",
    "\n",
    "    x_current_2 = p2x_sol[lower_lim:frame+1]\n",
    "    y_current_2 = p2y_sol[lower_lim:frame+1]\n",
    "    z_current_2 = p2z_sol[lower_lim:frame+1]\n",
    "\n",
    "    x_current_3 = p3x_sol[lower_lim:frame+1]\n",
    "    y_current_3 = p3y_sol[lower_lim:frame+1]\n",
    "    z_current_3 = p3z_sol[lower_lim:frame+1]\n",
    "\n",
    "    planet1_plt.set_data(x_current_1, y_current_1)  \n",
    "    planet1_plt.set_3d_properties(z_current_1)\n",
    "\n",
    "    planet1_dot.set_data([x_current_1[-1]], [y_current_1[-1]])\n",
    "    planet1_dot.set_3d_properties([z_current_1[-1]])\n",
    "\n",
    "\n",
    "\n",
    "    planet2_plt.set_data(x_current_2, y_current_2)  \n",
    "    planet2_plt.set_3d_properties(z_current_2)\n",
    "\n",
    "    planet2_dot.set_data([x_current_2[-1]], [y_current_2[-1]])\n",
    "    planet2_dot.set_3d_properties([z_current_2[-1]])\n",
    "\n",
    "\n",
    "\n",
    "    planet3_plt.set_data(x_current_3, y_current_3)  \n",
    "    planet3_plt.set_3d_properties(z_current_3)\n",
    "\n",
    "    planet3_dot.set_data([x_current_3[-1]], [y_current_3[-1]])\n",
    "    planet3_dot.set_3d_properties([z_current_3[-1]])\n",
    "\n",
    "\n",
    "    return planet1_plt, planet1_dot, planet2_plt, planet2_dot, planet3_plt, planet3_dot \n"
   ]
  },
  {
   "cell_type": "markdown",
   "id": "52f2ecb5",
   "metadata": {},
   "source": [
    "saving the animation as a gif file"
   ]
  },
  {
   "cell_type": "code",
   "execution_count": null,
   "id": "5e9caebe",
   "metadata": {},
   "outputs": [
    {
     "name": "stderr",
     "output_type": "stream",
     "text": [
      "MovieWriter ffmpeg unavailable; using Pillow instead.\n"
     ]
    },
    {
     "name": "stdout",
     "output_type": "stream",
     "text": [
      "Progress: 100.0% | 100.0 %\r"
     ]
    }
   ],
   "source": [
    "animation = FuncAnimation(fig, update, frames=range(0, len(t_points), 2), interval=10, blit=True)\n",
    "animation.save(f\"3_body_problem.gif\")"
   ]
  },
  {
   "cell_type": "code",
   "execution_count": null,
   "id": "1e2a1a96",
   "metadata": {},
   "outputs": [],
   "source": []
  }
 ],
 "metadata": {
  "kernelspec": {
   "display_name": "base",
   "language": "python",
   "name": "python3"
  },
  "language_info": {
   "codemirror_mode": {
    "name": "ipython",
    "version": 3
   },
   "file_extension": ".py",
   "mimetype": "text/x-python",
   "name": "python",
   "nbconvert_exporter": "python",
   "pygments_lexer": "ipython3",
   "version": "3.13.2"
  }
 },
 "nbformat": 4,
 "nbformat_minor": 5
}
